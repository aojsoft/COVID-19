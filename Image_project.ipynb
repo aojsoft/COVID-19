{
  "cells": [
    {
      "cell_type": "markdown",
      "metadata": {
        "id": "view-in-github",
        "colab_type": "text"
      },
      "source": [
        "<a href=\"https://colab.research.google.com/github/aojsoft/COVID-19/blob/master/Image_project.ipynb\" target=\"_parent\"><img src=\"https://colab.research.google.com/assets/colab-badge.svg\" alt=\"Open In Colab\"/></a>"
      ]
    },
    {
      "cell_type": "code",
      "execution_count": 108,
      "metadata": {
        "id": "TvYBthC5Lnmc"
      },
      "outputs": [],
      "source": [
        "import numpy as np\n",
        "import os\n",
        "import PIL\n",
        "import PIL.Image\n",
        "import tensorflow as tf\n",
        "import tensorflow_datasets as tfds\n",
        "import pandas as pd"
      ]
    },
    {
      "cell_type": "code",
      "execution_count": 124,
      "metadata": {
        "id": "naIXucdGL0jG"
      },
      "outputs": [],
      "source": [
        "pd.set_option(\"display.precision\", 10)"
      ]
    },
    {
      "cell_type": "code",
      "source": [
        "from google.colab import drive\n",
        "drive.mount('/content/drive', force_remount=True)"
      ],
      "metadata": {
        "colab": {
          "base_uri": "https://localhost:8080/"
        },
        "id": "XTs7GsU6tOxx",
        "outputId": "b98569fb-34a1-4712-e0d1-182c620f4bd7"
      },
      "execution_count": 125,
      "outputs": [
        {
          "output_type": "stream",
          "name": "stdout",
          "text": [
            "Mounted at /content/drive\n"
          ]
        }
      ]
    },
    {
      "cell_type": "code",
      "source": [
        "data_root='/content/drive/My Drive/clouda_pro'"
      ],
      "metadata": {
        "id": "0TSRxmraugrp"
      },
      "execution_count": 126,
      "outputs": []
    },
    {
      "cell_type": "code",
      "source": [
        "IMAGE_SHAPE = (224, 224)\n",
        "TRAINING_DATA_DIR = str(data_root)\n",
        "print(TRAINING_DATA_DIR);\n",
        "datagen_kwargs = dict(rescale=1./255, validation_split=.20)\n",
        "valid_datagen = tf.keras.preprocessing.image.ImageDataGenerator(**datagen_kwargs)\n",
        "valid_generator = valid_datagen.flow_from_directory(\n",
        "TRAINING_DATA_DIR,\n",
        "subset=\"validation\",\n",
        "shuffle=True,\n",
        "target_size=IMAGE_SHAPE\n",
        ")\n",
        "train_datagen = tf.keras.preprocessing.image.ImageDataGenerator(**datagen_kwargs)\n",
        "train_generator = train_datagen.flow_from_directory(\n",
        "TRAINING_DATA_DIR,\n",
        "subset=\"training\",\n",
        "shuffle=True,\n",
        "target_size=IMAGE_SHAPE)"
      ],
      "metadata": {
        "colab": {
          "base_uri": "https://localhost:8080/"
        },
        "id": "V7dEiE8itlb-",
        "outputId": "644c81e5-c81a-4cf6-ea71-432292c00f2f"
      },
      "execution_count": 127,
      "outputs": [
        {
          "output_type": "stream",
          "name": "stdout",
          "text": [
            "/content/drive/My Drive/clouda_pro\n",
            "Found 118 images belonging to 3 classes.\n",
            "Found 479 images belonging to 3 classes.\n"
          ]
        }
      ]
    },
    {
      "cell_type": "code",
      "source": [
        "image_batch_train, label_batch_train = next(iter(train_generator))\n",
        "print(\"Image batch shape: \", image_batch_train.shape)\n",
        "print(\"Label batch shape: \", label_batch_train.shape)\n",
        "dataset_labels = sorted(train_generator.class_indices.items(), key=lambda pair:pair[1])\n",
        "dataset_labels = np.array([key.title() for key, value in dataset_labels])\n",
        "print(dataset_labels)"
      ],
      "metadata": {
        "colab": {
          "base_uri": "https://localhost:8080/"
        },
        "id": "c21XnhUFv59t",
        "outputId": "a2cb4d5d-7a7f-4961-fb97-37eac3c7d546"
      },
      "execution_count": 128,
      "outputs": [
        {
          "output_type": "stream",
          "name": "stdout",
          "text": [
            "Image batch shape:  (32, 224, 224, 3)\n",
            "Label batch shape:  (32, 3)\n",
            "['Hero' 'Victim' 'Villian']\n"
          ]
        }
      ]
    },
    {
      "cell_type": "code",
      "source": [
        "import tensorflow_hub as hub\n",
        "#model = tf.keras.Sequential([\n",
        "#hub.KerasLayer(\"https://tfhub.dev/google/tf2-preview/mobilenet_v2/feature_vector/4\",\n",
        "#output_shape=[1280],\n",
        "#trainable=False),\n",
        "#tf.keras.layers.Dropout(0.4),\n",
        "#tf.keras.layers.Dense(train_generator.num_classes, activation='softmax')\n",
        "#])\n",
        "#model.build([None, 224, 224, 3])\n",
        "#model.summary()\n",
        "#model.compile(\n",
        "#optimizer=tf.keras.optimizers.Adam(),\n",
        "#loss='categorical_crossentropy',\n",
        "#metrics=['acc'])"
      ],
      "metadata": {
        "colab": {
          "base_uri": "https://localhost:8080/"
        },
        "id": "BaaPkHU_w2KT",
        "outputId": "96231140-88ec-424b-8d3a-74ed67176227"
      },
      "execution_count": 139,
      "outputs": [
        {
          "output_type": "stream",
          "name": "stdout",
          "text": [
            "Model: \"sequential_3\"\n",
            "_________________________________________________________________\n",
            " Layer (type)                Output Shape              Param #   \n",
            "=================================================================\n",
            " keras_layer_5 (KerasLayer)  (None, 1280)              2257984   \n",
            "                                                                 \n",
            " dropout_3 (Dropout)         (None, 1280)              0         \n",
            "                                                                 \n",
            " dense_3 (Dense)             (None, 3)                 3843      \n",
            "                                                                 \n",
            "=================================================================\n",
            "Total params: 2,261,827\n",
            "Trainable params: 3,843\n",
            "Non-trainable params: 2,257,984\n",
            "_________________________________________________________________\n"
          ]
        }
      ]
    },
    {
      "cell_type": "code",
      "source": [
        "import tensorflow_hub as hub\n",
        "import tensorflow as tf\n",
        "embedding_url = 'https://tfhub.dev/google/universal-sentence-encoder-large/5'\n",
        "\n",
        "premises = tf.keras.layers.Input(shape=(), name=\"Input1\", dtype=tf.string)\n",
        "conclusion = tf.keras.layers.Input(shape=(), name=\"Input2\", dtype=tf.string)\n",
        "embedding_layer = hub.KerasLayer(embedding_url)\n",
        "x1 = embedding_layer(premises)\n",
        "x2 = embedding_layer(conclusion)\n",
        "\n",
        "model = tf.keras.Model(inputs=[premises, conclusion], outputs=[x1, x2])\n",
        "tf.keras.utils.plot_model(model, 'my_first_model.png', show_shapes=True)"
      ],
      "metadata": {
        "colab": {
          "base_uri": "https://localhost:8080/",
          "height": 201
        },
        "id": "tn0TxAM4GGt_",
        "outputId": "e444d1f4-031d-4455-c059-bb51559707db"
      },
      "execution_count": 142,
      "outputs": [
        {
          "output_type": "execute_result",
          "data": {
            "image/png": "[encoded data removed]",
            "text/plain": [
              "<IPython.core.display.Image object>"
            ]
          },
          "metadata": {},
          "execution_count": 142
        }
      ]
    },
    {
      "cell_type": "code",
      "source": [
        "model = tf.keras.Sequential([\n",
        "    hub.KerasLayer(\"https://tfhub.dev/google/tf2-preview/mobilenet_v2/feature_vector/4\", output_shape=[1280],\n",
        "                   trainable=False),  # Can be True, see below.\n",
        "    tf.keras.layers.Dense(train_generator.num_classes, activation='softmax')\n",
        "])\n",
        "m.build([None, 224, 224, 3])  # Batch input shape.\n",
        "model.build([None, 224, 224, 3])\n",
        "model.summary()\n",
        "model.compile(\n",
        "optimizer=tf.keras.optimizers.Adam(),\n",
        "loss='categorical_crossentropy',\n",
        "metrics=['acc'])"
      ],
      "metadata": {
        "colab": {
          "base_uri": "https://localhost:8080/"
        },
        "id": "c86jebWVHZdP",
        "outputId": "30ade1c6-d66f-4a94-eba0-9cc693078a87"
      },
      "execution_count": 144,
      "outputs": [
        {
          "output_type": "stream",
          "name": "stdout",
          "text": [
            "Model: \"sequential_5\"\n",
            "_________________________________________________________________\n",
            " Layer (type)                Output Shape              Param #   \n",
            "=================================================================\n",
            " keras_layer_9 (KerasLayer)  (None, 1280)              2257984   \n",
            "                                                                 \n",
            " dense_5 (Dense)             (None, 3)                 3843      \n",
            "                                                                 \n",
            "=================================================================\n",
            "Total params: 2,261,827\n",
            "Trainable params: 3,843\n",
            "Non-trainable params: 2,257,984\n",
            "_________________________________________________________________\n"
          ]
        }
      ]
    },
    {
      "cell_type": "code",
      "source": [
        "steps_per_epoch = np.ceil(train_generator.samples/train_generator.batch_size)\n",
        "val_steps_per_epoch = np.ceil(valid_generator.samples/valid_generator.batch_size)\n",
        "hist = model.fit(\n",
        "train_generator,\n",
        "epochs=10,\n",
        "verbose=1,\n",
        "steps_per_epoch=steps_per_epoch,\n",
        "validation_data=valid_generator,\n",
        "validation_steps=val_steps_per_epoch).history"
      ],
      "metadata": {
        "colab": {
          "base_uri": "https://localhost:8080/"
        },
        "id": "biVVs01Qzh1d",
        "outputId": "59c5d357-f1f1-41d6-d371-f94807e35fc5"
      },
      "execution_count": 145,
      "outputs": [
        {
          "output_type": "stream",
          "name": "stdout",
          "text": [
            "Epoch 1/10\n",
            "15/15 [==============================] - 27s 1s/step - loss: 1.0233 - acc: 0.5929 - val_loss: 1.0513 - val_acc: 0.5678\n",
            "Epoch 2/10\n",
            "15/15 [==============================] - 25s 2s/step - loss: 0.8541 - acc: 0.6472 - val_loss: 0.9845 - val_acc: 0.6186\n",
            "Epoch 3/10\n",
            "15/15 [==============================] - 20s 1s/step - loss: 0.7630 - acc: 0.6848 - val_loss: 0.9651 - val_acc: 0.6017\n",
            "Epoch 4/10\n",
            "15/15 [==============================] - 20s 1s/step - loss: 0.6949 - acc: 0.7098 - val_loss: 0.9832 - val_acc: 0.5593\n",
            "Epoch 5/10\n",
            "15/15 [==============================] - 20s 1s/step - loss: 0.6576 - acc: 0.7307 - val_loss: 0.9455 - val_acc: 0.6356\n",
            "Epoch 6/10\n",
            "15/15 [==============================] - 19s 1s/step - loss: 0.5962 - acc: 0.7516 - val_loss: 0.9297 - val_acc: 0.6186\n",
            "Epoch 7/10\n",
            "15/15 [==============================] - 19s 1s/step - loss: 0.5591 - acc: 0.7808 - val_loss: 0.9276 - val_acc: 0.6695\n",
            "Epoch 8/10\n",
            "15/15 [==============================] - 20s 1s/step - loss: 0.5215 - acc: 0.8058 - val_loss: 0.9156 - val_acc: 0.6017\n",
            "Epoch 9/10\n",
            "15/15 [==============================] - 19s 1s/step - loss: 0.4927 - acc: 0.8163 - val_loss: 0.9187 - val_acc: 0.6610\n",
            "Epoch 10/10\n",
            "15/15 [==============================] - 19s 1s/step - loss: 0.4771 - acc: 0.8267 - val_loss: 0.9076 - val_acc: 0.6525\n"
          ]
        }
      ]
    },
    {
      "cell_type": "code",
      "source": [
        "covid_meme = \"saved_models/covidmeme\"\n",
        "model.save(covid_meme) #save your model \n",
        "\n",
        "# to reload your model \n",
        "from tensorflow import keras\n",
        "covidmeme_model = keras.models.load_model(covid_meme)"
      ],
      "metadata": {
        "colab": {
          "base_uri": "https://localhost:8080/"
        },
        "id": "5osIlKPs1fhg",
        "outputId": "05e0529c-e068-4f38-c1ba-349e84824e81"
      },
      "execution_count": 146,
      "outputs": [
        {
          "output_type": "stream",
          "name": "stdout",
          "text": [
            "INFO:tensorflow:Assets written to: saved_models/covidmeme/assets\n"
          ]
        },
        {
          "output_type": "stream",
          "name": "stderr",
          "text": [
            "INFO:tensorflow:Assets written to: saved_models/covidmeme/assets\n"
          ]
        }
      ]
    },
    {
      "cell_type": "code",
      "source": [
        "val_image_batch, val_label_batch = next(iter(valid_generator))\n",
        "true_label_ids = np.argmax(val_label_batch, axis=-1)\n",
        "print(\"Validation batch shape:\", val_image_batch.shape)"
      ],
      "metadata": {
        "colab": {
          "base_uri": "https://localhost:8080/"
        },
        "id": "3TZ4BiSC7igW",
        "outputId": "0264020a-afc8-4123-9428-a82933f001f7"
      },
      "execution_count": 147,
      "outputs": [
        {
          "output_type": "stream",
          "name": "stdout",
          "text": [
            "Validation batch shape: (32, 224, 224, 3)\n"
          ]
        }
      ]
    },
    {
      "cell_type": "code",
      "source": [
        "tf_model_predictions = covidmeme_model.predict(val_image_batch)\n",
        "tf_pred_dataframe = pd.DataFrame(tf_model_predictions)\n",
        "tf_pred_dataframe.columns = dataset_labels\n",
        "print(\"Prediction results for the first elements\")\n",
        "tf_pred_dataframe.head()"
      ],
      "metadata": {
        "colab": {
          "base_uri": "https://localhost:8080/",
          "height": 224
        },
        "id": "zT3NEQul7zd7",
        "outputId": "6f0b1adc-134a-4990-d412-9c2a41b9919a"
      },
      "execution_count": 148,
      "outputs": [
        {
          "output_type": "stream",
          "name": "stdout",
          "text": [
            "Prediction results for the first elements\n"
          ]
        },
        {
          "output_type": "execute_result",
          "data": {
            "text/html": [
              "\n",
              "  <div id=\"df-53401d7e-0730-4ee4-8c75-7947b7aa6f8f\">\n",
              "    <div class=\"colab-df-container\">\n",
              "      <div>\n",
              "<style scoped>\n",
              "    .dataframe tbody tr th:only-of-type {\n",
              "        vertical-align: middle;\n",
              "    }\n",
              "\n",
              "    .dataframe tbody tr th {\n",
              "        vertical-align: top;\n",
              "    }\n",
              "\n",
              "    .dataframe thead th {\n",
              "        text-align: right;\n",
              "    }\n",
              "</style>\n",
              "<table border=\"1\" class=\"dataframe\">\n",
              "  <thead>\n",
              "    <tr style=\"text-align: right;\">\n",
              "      <th></th>\n",
              "      <th>Hero</th>\n",
              "      <th>Victim</th>\n",
              "      <th>Villian</th>\n",
              "    </tr>\n",
              "  </thead>\n",
              "  <tbody>\n",
              "    <tr>\n",
              "      <th>0</th>\n",
              "      <td>0.2012714595</td>\n",
              "      <td>0.0414891466</td>\n",
              "      <td>0.7572393417</td>\n",
              "    </tr>\n",
              "    <tr>\n",
              "      <th>1</th>\n",
              "      <td>0.2638911307</td>\n",
              "      <td>0.0196367856</td>\n",
              "      <td>0.7164720297</td>\n",
              "    </tr>\n",
              "    <tr>\n",
              "      <th>2</th>\n",
              "      <td>0.0152073624</td>\n",
              "      <td>0.0172176622</td>\n",
              "      <td>0.9675749540</td>\n",
              "    </tr>\n",
              "    <tr>\n",
              "      <th>3</th>\n",
              "      <td>0.0449129082</td>\n",
              "      <td>0.2931789756</td>\n",
              "      <td>0.6619081497</td>\n",
              "    </tr>\n",
              "    <tr>\n",
              "      <th>4</th>\n",
              "      <td>0.0594438687</td>\n",
              "      <td>0.0488537550</td>\n",
              "      <td>0.8917023540</td>\n",
              "    </tr>\n",
              "  </tbody>\n",
              "</table>\n",
              "</div>\n",
              "      <button class=\"colab-df-convert\" onclick=\"convertToInteractive('df-53401d7e-0730-4ee4-8c75-7947b7aa6f8f')\"\n",
              "              title=\"Convert this dataframe to an interactive table.\"\n",
              "              style=\"display:none;\">\n",
              "        \n",
              "  <svg xmlns=\"http://www.w3.org/2000/svg\" height=\"24px\"viewBox=\"0 0 24 24\"\n",
              "       width=\"24px\">\n",
              "    <path d=\"M0 0h24v24H0V0z\" fill=\"none\"/>\n",
              "    <path d=\"M18.56 5.44l.94 2.06.94-2.06 2.06-.94-2.06-.94-.94-2.06-.94 2.06-2.06.94zm-11 1L8.5 8.5l.94-2.06 2.06-.94-2.06-.94L8.5 2.5l-.94 2.06-2.06.94zm10 10l.94 2.06.94-2.06 2.06-.94-2.06-.94-.94-2.06-.94 2.06-2.06.94z\"/><path d=\"M17.41 7.96l-1.37-1.37c-.4-.4-.92-.59-1.43-.59-.52 0-1.04.2-1.43.59L10.3 9.45l-7.72 7.72c-.78.78-.78 2.05 0 2.83L4 21.41c.39.39.9.59 1.41.59.51 0 1.02-.2 1.41-.59l7.78-7.78 2.81-2.81c.8-.78.8-2.07 0-2.86zM5.41 20L4 18.59l7.72-7.72 1.47 1.35L5.41 20z\"/>\n",
              "  </svg>\n",
              "      </button>\n",
              "      \n",
              "  <style>\n",
              "    .colab-df-container {\n",
              "      display:flex;\n",
              "      flex-wrap:wrap;\n",
              "      gap: 12px;\n",
              "    }\n",
              "\n",
              "    .colab-df-convert {\n",
              "      background-color: #E8F0FE;\n",
              "      border: none;\n",
              "      border-radius: 50%;\n",
              "      cursor: pointer;\n",
              "      display: none;\n",
              "      fill: #1967D2;\n",
              "      height: 32px;\n",
              "      padding: 0 0 0 0;\n",
              "      width: 32px;\n",
              "    }\n",
              "\n",
              "    .colab-df-convert:hover {\n",
              "      background-color: #E2EBFA;\n",
              "      box-shadow: 0px 1px 2px rgba(60, 64, 67, 0.3), 0px 1px 3px 1px rgba(60, 64, 67, 0.15);\n",
              "      fill: #174EA6;\n",
              "    }\n",
              "\n",
              "    [theme=dark] .colab-df-convert {\n",
              "      background-color: #3B4455;\n",
              "      fill: #D2E3FC;\n",
              "    }\n",
              "\n",
              "    [theme=dark] .colab-df-convert:hover {\n",
              "      background-color: #434B5C;\n",
              "      box-shadow: 0px 1px 3px 1px rgba(0, 0, 0, 0.15);\n",
              "      filter: drop-shadow(0px 1px 2px rgba(0, 0, 0, 0.3));\n",
              "      fill: #FFFFFF;\n",
              "    }\n",
              "  </style>\n",
              "\n",
              "      <script>\n",
              "        const buttonEl =\n",
              "          document.querySelector('#df-53401d7e-0730-4ee4-8c75-7947b7aa6f8f button.colab-df-convert');\n",
              "        buttonEl.style.display =\n",
              "          google.colab.kernel.accessAllowed ? 'block' : 'none';\n",
              "\n",
              "        async function convertToInteractive(key) {\n",
              "          const element = document.querySelector('#df-53401d7e-0730-4ee4-8c75-7947b7aa6f8f');\n",
              "          const dataTable =\n",
              "            await google.colab.kernel.invokeFunction('convertToInteractive',\n",
              "                                                     [key], {});\n",
              "          if (!dataTable) return;\n",
              "\n",
              "          const docLinkHtml = 'Like what you see? Visit the ' +\n",
              "            '<a target=\"_blank\" href=https://colab.research.google.com/notebooks/data_table.ipynb>data table notebook</a>'\n",
              "            + ' to learn more about interactive tables.';\n",
              "          element.innerHTML = '';\n",
              "          dataTable['output_type'] = 'display_data';\n",
              "          await google.colab.output.renderOutput(dataTable, element);\n",
              "          const docLink = document.createElement('div');\n",
              "          docLink.innerHTML = docLinkHtml;\n",
              "          element.appendChild(docLink);\n",
              "        }\n",
              "      </script>\n",
              "    </div>\n",
              "  </div>\n",
              "  "
            ],
            "text/plain": [
              "           Hero        Victim       Villian\n",
              "0  0.2012714595  0.0414891466  0.7572393417\n",
              "1  0.2638911307  0.0196367856  0.7164720297\n",
              "2  0.0152073624  0.0172176622  0.9675749540\n",
              "3  0.0449129082  0.2931789756  0.6619081497\n",
              "4  0.0594438687  0.0488537550  0.8917023540"
            ]
          },
          "metadata": {},
          "execution_count": 148
        }
      ]
    },
    {
      "cell_type": "code",
      "source": [
        "import matplotlib.pylab as plt\n",
        "predicted_ids = np.argmax(tf_model_predictions, axis=-1)\n",
        "predicted_labels = dataset_labels[predicted_ids]\n",
        "plt.figure(figsize=(15,15))\n",
        "plt.subplots_adjust(hspace=0.5)\n",
        "for n in range(20): \n",
        "  plt.subplot(5,4,n+1)\n",
        "plt.imshow(val_image_batch[n])\n",
        "color = \"green\" if predicted_ids[n] == true_label_ids[n] else \"red\"\n",
        "plt.title(predicted_labels[n].title(), color=color)\n",
        "plt.axis('off')\n",
        "_ = plt.suptitle(\"Model predictions (green: correct, red: incorrect)\")"
      ],
      "metadata": {
        "colab": {
          "base_uri": "https://localhost:8080/",
          "height": 971
        },
        "id": "KuBOKXt_8vpi",
        "outputId": "080fe379-b65f-4751-8415-cae1f5cfe35e"
      },
      "execution_count": 149,
      "outputs": [
        {
          "output_type": "display_data",
          "data": {
            "image/png": "[encoded data removed]",
            "text/plain": [
              "<Figure size 1080x1080 with 20 Axes>"
            ]
          },
          "metadata": {
            "needs_background": "light"
          }
        }
      ]
    }
  ],
  "metadata": {
    "colab": {
      "name": "Image_project",
      "provenance": [],
      "authorship_tag": "ABX9TyPwIrHrBg3omwlFYnA6KhVB",
      "include_colab_link": true
    },
    "kernelspec": {
      "display_name": "Python 3",
      "name": "python3"
    },
    "language_info": {
      "name": "python"
    }
  },
  "nbformat": 4,
  "nbformat_minor": 0
}